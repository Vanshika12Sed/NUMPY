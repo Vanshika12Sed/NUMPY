{
 "cells": [
  {
   "cell_type": "markdown",
   "id": "c2bc984f",
   "metadata": {},
   "source": [
    "# ARITHMETIC FUNCTIONS IN NUMPY ARRAY"
   ]
  },
  {
   "cell_type": "code",
   "execution_count": 9,
   "id": "8db9753e",
   "metadata": {},
   "outputs": [
    {
     "name": "stdout",
     "output_type": "stream",
     "text": [
      "Minimum Number:  1\n",
      "Maximum Number:  7\n",
      "\n",
      "Position of Minimum Value is:  0\n",
      "Position of Maximum Value is:  6\n",
      "\n",
      "Square root is:  [1.         1.41421356 1.73205081 2.         2.23606798 2.44948974\n",
      " 2.64575131 2.23606798]\n",
      "\n",
      "Sin value is:  [ 0.84147098  0.90929743  0.14112001 -0.7568025  -0.95892427 -0.2794155\n",
      "  0.6569866  -0.95892427]\n",
      "Cos value is:  [ 0.54030231 -0.41614684 -0.9899925  -0.65364362  0.28366219  0.96017029\n",
      "  0.75390225  0.28366219]\n",
      "\n",
      "Cumsum is:  [ 1  3  6 10 15 21 28 33]\n"
     ]
    }
   ],
   "source": [
    "import numpy as np \n",
    "\n",
    "var = np.array([1,2,3,4,5,6,7,5])\n",
    "print(\"Minimum Number: \", np.min(var))\n",
    "print(\"Maximum Number: \", np.max(var))\n",
    "\n",
    "print()\n",
    "\n",
    "print(\"Position of Minimum Value is: \", np.argmin(var))\n",
    "print(\"Position of Maximum Value is: \", np.argmax(var))\n",
    "\n",
    "print()\n",
    "\n",
    "print(\"Square root is: \", np.sqrt(var))\n",
    "\n",
    "print()\n",
    "\n",
    "print(\"Sin value is: \", np.sin(var))\n",
    "print(\"Cos value is: \", np.cos(var))\n",
    "\n",
    "print()\n",
    "\n",
    "print(\"Cumsum is: \", np.cumsum(var))"
   ]
  },
  {
   "cell_type": "code",
   "execution_count": 5,
   "id": "499ff009",
   "metadata": {},
   "outputs": [
    {
     "name": "stdout",
     "output_type": "stream",
     "text": [
      "[2 3]\n",
      "[5 4 2]\n"
     ]
    }
   ],
   "source": [
    "# for 2-D Array\n",
    "\n",
    "var1 = np.array([[5,63,2], [7,4,3]])\n",
    "print(np.min(var1, axis = 1))\n",
    "print(np.min(var1, axis = 0))"
   ]
  }
 ],
 "metadata": {
  "kernelspec": {
   "display_name": "Python 3 (ipykernel)",
   "language": "python",
   "name": "python3"
  },
  "language_info": {
   "codemirror_mode": {
    "name": "ipython",
    "version": 3
   },
   "file_extension": ".py",
   "mimetype": "text/x-python",
   "name": "python",
   "nbconvert_exporter": "python",
   "pygments_lexer": "ipython3",
   "version": "3.9.5"
  }
 },
 "nbformat": 4,
 "nbformat_minor": 5
}
