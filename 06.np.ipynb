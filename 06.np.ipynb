{
 "cells": [
  {
   "cell_type": "markdown",
   "id": "00bac381",
   "metadata": {},
   "source": [
    "# SHAPE AND RESHAPING IN NUMPY ARRAYS "
   ]
  },
  {
   "cell_type": "code",
   "execution_count": 2,
   "id": "19a9d6a5",
   "metadata": {},
   "outputs": [
    {
     "name": "stdout",
     "output_type": "stream",
     "text": [
      "[[ 3  4  6  4]\n",
      " [43  3  7  5]]\n",
      "\n",
      "(2, 4)\n"
     ]
    }
   ],
   "source": [
    "import numpy as np\n",
    "\n",
    "var = np.array([[3,4,6,4], [43,3,7,5]])\n",
    "print(var)\n",
    "print()\n",
    "print(var.shape)"
   ]
  },
  {
   "cell_type": "code",
   "execution_count": 9,
   "id": "6861d871",
   "metadata": {},
   "outputs": [
    {
     "name": "stdout",
     "output_type": "stream",
     "text": [
      "[[[[1 2 3 4]]]]\n",
      "\n",
      "(1, 1, 1, 4)\n",
      "4\n"
     ]
    }
   ],
   "source": [
    "var1 = np.array([1,2,3,4], ndmin = 4)\n",
    "print(var1)\n",
    "print()\n",
    "print(var1.shape)\n",
    "print(var1.ndim)"
   ]
  },
  {
   "cell_type": "code",
   "execution_count": 5,
   "id": "4467fb81",
   "metadata": {},
   "outputs": [
    {
     "name": "stdout",
     "output_type": "stream",
     "text": [
      "Original Array:  [1 2 3 4 5 6]\n",
      "Shape of Original Array:  (6,)\n",
      "Dimension of original Array:  1\n",
      "\n",
      "New Array:  [[1 2]\n",
      " [3 4]\n",
      " [5 6]]\n",
      "Shape of new Array:  (3, 2)\n",
      "Dimension of new Array:  2\n"
     ]
    }
   ],
   "source": [
    "# Reshaping\n",
    "\n",
    "var2 = np.array([1,2,3,4,5,6])\n",
    "print(\"Original Array: \", var2)\n",
    "print(\"Shape of Original Array: \", var2.shape)\n",
    "print(\"Dimension of original Array: \", var2.ndim)\n",
    "\n",
    "print()\n",
    "\n",
    "x = var2.reshape(3, 2)\n",
    "print(\"New Array: \", x)\n",
    "print(\"Shape of new Array: \", x.shape)\n",
    "print(\"Dimension of new Array: \", x.ndim)"
   ]
  },
  {
   "cell_type": "code",
   "execution_count": 8,
   "id": "55865b59",
   "metadata": {},
   "outputs": [
    {
     "name": "stdout",
     "output_type": "stream",
     "text": [
      "Original Array:  [1 2 3 4 5 6 5 6 3 3 6 8]\n",
      "Shape of Original Array:  (12,)\n",
      "Dimension of original Array:  1\n",
      "\n",
      "New Array:  [[[1 2]\n",
      "  [3 4]\n",
      "  [5 6]]\n",
      "\n",
      " [[5 6]\n",
      "  [3 3]\n",
      "  [6 8]]]\n",
      "Shape of new Array:  (2, 3, 2)\n",
      "Dimension of new Array:  3\n"
     ]
    }
   ],
   "source": [
    "var3 = np.array([1,2,3,4,5,6,5,6,3,3,6,8])\n",
    "print(\"Original Array: \", var3)\n",
    "print(\"Shape of Original Array: \", var3.shape)\n",
    "print(\"Dimension of original Array: \", var3.ndim)\n",
    "\n",
    "print()\n",
    "\n",
    "x1 = var3.reshape(2, 3, 2)\n",
    "print(\"New Array: \", x1)\n",
    "print(\"Shape of new Array: \", x1.shape)\n",
    "print(\"Dimension of new Array: \", x1.ndim) "
   ]
  },
  {
   "cell_type": "code",
   "execution_count": 12,
   "id": "b2dd5edb",
   "metadata": {},
   "outputs": [
    {
     "name": "stdout",
     "output_type": "stream",
     "text": [
      "Original Array:  [1 2 3 4 5 6 5 6 3 3 6 8]\n",
      "Shape of Original Array:  (12,)\n",
      "Dimension of original Array:  1\n",
      "\n",
      "New Array:  [[[1 2]\n",
      "  [3 4]\n",
      "  [5 6]]\n",
      "\n",
      " [[5 6]\n",
      "  [3 3]\n",
      "  [6 8]]]\n",
      "Shape of new Array:  (2, 3, 2)\n",
      "Dimension of new Array:  3\n",
      "\n",
      "One dimension array:  [1 2 3 4 5 6 5 6 3 3 6 8]\n",
      "Dimension check:  1\n"
     ]
    }
   ],
   "source": [
    "# 3-D array into 1-D array\n",
    "var3 = np.array([1,2,3,4,5,6,5,6,3,3,6,8])\n",
    "print(\"Original Array: \", var3)\n",
    "print(\"Shape of Original Array: \", var3.shape)\n",
    "print(\"Dimension of original Array: \", var3.ndim)\n",
    "\n",
    "print()\n",
    "\n",
    "x1 = var3.reshape(2, 3, 2)\n",
    "print(\"New Array: \", x1)\n",
    "print(\"Shape of new Array: \", x1.shape)\n",
    "print(\"Dimension of new Array: \", x1.ndim) \n",
    "\n",
    "print()\n",
    "\n",
    "oneD = x1.reshape(-1)\n",
    "print(\"One dimension array: \",oneD)\n",
    "print(\"Dimension check: \",oneD.ndim)"
   ]
  }
 ],
 "metadata": {
  "kernelspec": {
   "display_name": "Python 3 (ipykernel)",
   "language": "python",
   "name": "python3"
  },
  "language_info": {
   "codemirror_mode": {
    "name": "ipython",
    "version": 3
   },
   "file_extension": ".py",
   "mimetype": "text/x-python",
   "name": "python",
   "nbconvert_exporter": "python",
   "pygments_lexer": "ipython3",
   "version": "3.9.5"
  }
 },
 "nbformat": 4,
 "nbformat_minor": 5
}
