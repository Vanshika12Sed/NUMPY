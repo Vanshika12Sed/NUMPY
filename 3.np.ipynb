{
 "cells": [
  {
   "cell_type": "markdown",
   "id": "c38244e9",
   "metadata": {},
   "source": [
    "DATA TYPES OF NUMPY ARRAYS "
   ]
  },
  {
   "cell_type": "code",
   "execution_count": 1,
   "id": "f8538ff2",
   "metadata": {},
   "outputs": [
    {
     "name": "stdout",
     "output_type": "stream",
     "text": [
      "Data type:  int32\n"
     ]
    }
   ],
   "source": [
    "import numpy as np \n",
    "\n",
    "var = np.array([1,2,3,4])\n",
    "print(\"Data type: \", var.dtype)"
   ]
  },
  {
   "cell_type": "code",
   "execution_count": 2,
   "id": "08e0d7cd",
   "metadata": {},
   "outputs": [
    {
     "name": "stdout",
     "output_type": "stream",
     "text": [
      "Data type:  float64\n"
     ]
    }
   ],
   "source": [
    "var = np.array([1.0,2.7,3.6,4.4])\n",
    "print(\"Data type: \", var.dtype)"
   ]
  },
  {
   "cell_type": "code",
   "execution_count": 3,
   "id": "8102b760",
   "metadata": {},
   "outputs": [
    {
     "name": "stdout",
     "output_type": "stream",
     "text": [
      "Data type:  <U1\n"
     ]
    }
   ],
   "source": [
    "var = np.array(['a','f','d','s'])\n",
    "print(\"Data type: \", var.dtype)"
   ]
  },
  {
   "cell_type": "code",
   "execution_count": 4,
   "id": "ab9d7d40",
   "metadata": {},
   "outputs": [
    {
     "name": "stdout",
     "output_type": "stream",
     "text": [
      "Data type:  <U11\n"
     ]
    }
   ],
   "source": [
    "var = np.array([1,2,3,4, 'j', 'g', 's'])\n",
    "print(\"Data type: \", var.dtype)"
   ]
  },
  {
   "cell_type": "code",
   "execution_count": 7,
   "id": "152d4c39",
   "metadata": {},
   "outputs": [
    {
     "name": "stdout",
     "output_type": "stream",
     "text": [
      "Data type:  int8\n",
      "[1 2 3 4]\n"
     ]
    }
   ],
   "source": [
    "# change data type\n",
    "X = np.array([1,2,3,4], dtype = np.int8)\n",
    "\n",
    "print(\"Data type: \", X.dtype)\n",
    "print(X) "
   ]
  },
  {
   "cell_type": "code",
   "execution_count": 8,
   "id": "f1f8a978",
   "metadata": {},
   "outputs": [
    {
     "name": "stdout",
     "output_type": "stream",
     "text": [
      "Data type:  float32\n",
      "[1. 2. 3. 4.]\n"
     ]
    }
   ],
   "source": [
    "X1 = np.array([1,2,3,4], dtype = \"f\")\n",
    "\n",
    "print(\"Data type: \", X1.dtype)\n",
    "print(X1) "
   ]
  },
  {
   "cell_type": "code",
   "execution_count": 10,
   "id": "079ab339",
   "metadata": {},
   "outputs": [
    {
     "name": "stdout",
     "output_type": "stream",
     "text": [
      "Data type:  int32\n",
      "Data type:  float32\n",
      "[1 2 3 4]\n",
      "[1. 2. 3. 4.]\n"
     ]
    }
   ],
   "source": [
    "X2 = np.array([1,2,3,4])\n",
    "\n",
    "new = np.float32(X2) \n",
    "\n",
    "print(\"Data type: \", X2.dtype)\n",
    "print(\"Data type: \", new.dtype)\n",
    "\n",
    "print(X2) \n",
    "print(new) "
   ]
  },
  {
   "cell_type": "code",
   "execution_count": 11,
   "id": "d39ef47b",
   "metadata": {},
   "outputs": [
    {
     "name": "stdout",
     "output_type": "stream",
     "text": [
      "Data type:  int32\n",
      "Data type:  float32\n",
      "Data type:  int32\n",
      "[1 2 3 4]\n",
      "[1. 2. 3. 4.]\n",
      "[1 2 3 4]\n"
     ]
    }
   ],
   "source": [
    "X2 = np.array([1,2,3,4])\n",
    "\n",
    "new = np.float32(X2)\n",
    "new1 = np.int_(new)\n",
    "\n",
    "print(\"Data type: \", X2.dtype)\n",
    "print(\"Data type: \", new.dtype)\n",
    "print(\"Data type: \", new1.dtype)\n",
    "\n",
    "print(X2) \n",
    "print(new) \n",
    "print(new1) "
   ]
  },
  {
   "cell_type": "code",
   "execution_count": 5,
   "id": "9c7de2d1",
   "metadata": {},
   "outputs": [
    {
     "name": "stdout",
     "output_type": "stream",
     "text": [
      "[1 2 3 4]\n",
      "[1. 2. 3. 4.]\n"
     ]
    }
   ],
   "source": [
    "import numpy as np\n",
    "x3 = np.array([1,2,3,4])\n",
    "new_1 = x3.astype(float)\n",
    "\n",
    "print(x3)\n",
    "print(new_1)"
   ]
  },
  {
   "cell_type": "code",
   "execution_count": null,
   "id": "50c9c4b4",
   "metadata": {},
   "outputs": [],
   "source": []
  }
 ],
 "metadata": {
  "kernelspec": {
   "display_name": "Python 3 (ipykernel)",
   "language": "python",
   "name": "python3"
  },
  "language_info": {
   "codemirror_mode": {
    "name": "ipython",
    "version": 3
   },
   "file_extension": ".py",
   "mimetype": "text/x-python",
   "name": "python",
   "nbconvert_exporter": "python",
   "pygments_lexer": "ipython3",
   "version": "3.9.5"
  }
 },
 "nbformat": 4,
 "nbformat_minor": 5
}
