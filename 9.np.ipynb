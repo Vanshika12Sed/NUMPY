{
 "cells": [
  {
   "cell_type": "markdown",
   "id": "c112215d",
   "metadata": {},
   "source": [
    "# JOINING AND SPLIT NUMPY ARRAYS"
   ]
  },
  {
   "cell_type": "markdown",
   "id": "088b515d",
   "metadata": {},
   "source": [
    "# JOIN ARRAY"
   ]
  },
  {
   "cell_type": "code",
   "execution_count": 2,
   "id": "b79ed6a2",
   "metadata": {},
   "outputs": [
    {
     "name": "stdout",
     "output_type": "stream",
     "text": [
      "1st Array is:  [1 2 3 4]\n",
      "2nd Array is:  [9 8 7 6]\n",
      "After using concatenate function, new array is:  [1 2 3 4 9 8 7 6]\n"
     ]
    }
   ],
   "source": [
    "import numpy as np \n",
    "\n",
    "var = np.array([1,2,3,4])\n",
    "print(\"1st Array is: \", var)\n",
    "\n",
    "var1 = np.array([9,8,7,6]) \n",
    "print(\"2nd Array is: \", var1)\n",
    "\n",
    "arr = np.concatenate((var, var1))\n",
    "\n",
    "print(\"After using concatenate function, new array is: \", arr)"
   ]
  },
  {
   "cell_type": "code",
   "execution_count": 5,
   "id": "651e328a",
   "metadata": {},
   "outputs": [
    {
     "name": "stdout",
     "output_type": "stream",
     "text": [
      "1st Array is: \n",
      " [[1 2]\n",
      " [3 4]]\n",
      "2nd Array is: \n",
      " [[9 8]\n",
      " [7 6]]\n",
      "After using concatenate function, new array is: \n",
      " [[1 2 9 8]\n",
      " [3 4 7 6]]\n"
     ]
    }
   ],
   "source": [
    "var2 = np.array([[1,2],[3,4]])\n",
    "print(\"1st Array is: \\n\", var2)\n",
    "\n",
    "var3 = np.array([[9,8],[7,6]]) \n",
    "print(\"2nd Array is: \\n\", var3)\n",
    "\n",
    "arr2 = np.concatenate((var2, var3), axis = 1)\n",
    "\n",
    "print(\"After using concatenate function, new array is: \\n\", arr)"
   ]
  },
  {
   "cell_type": "code",
   "execution_count": null,
   "id": "afb9b385",
   "metadata": {},
   "outputs": [],
   "source": [
    "var4 = np.array([1,2,3,4])\n",
    "print(\"1st Array is: \", var4)\n",
    "\n",
    "var5 = np.array([9,8,7,6]) \n",
    "print(\"2nd Array is: \", var5)\n",
    "\n",
    "arr3 = np.concatenate((var4, var5))\n",
    "\n",
    "print(\"After using concatenate function, new array is: \", arr)"
   ]
  },
  {
   "cell_type": "code",
   "execution_count": 6,
   "id": "5567fcd3",
   "metadata": {},
   "outputs": [
    {
     "name": "stdout",
     "output_type": "stream",
     "text": [
      "[[1 9]\n",
      " [2 7]\n",
      " [3 8]\n",
      " [4 6]]\n",
      "\n",
      "[[[1 9]\n",
      "  [2 7]\n",
      "  [3 8]\n",
      "  [4 6]]]\n",
      "\n",
      "[[1 2 3 4]\n",
      " [9 7 8 6]]\n",
      "\n",
      "[1 2 3 4 9 7 8 6]\n"
     ]
    }
   ],
   "source": [
    "var6 = np.array([1,2,3,4])\n",
    "var7 = np.array([9,7,8,6])\n",
    "\n",
    "arr_new = np.stack((var6, var7), axis = 1)\n",
    "arr_new1 = np.dstack((var6, var7))   #along height\n",
    "arr_new2 = np.vstack((var6, var7))   #along column\n",
    "arr_new3 = np.hstack((var6, var7))   #along row \n",
    "\n",
    "print(arr_new) \n",
    "print()\n",
    "print(arr_new1) \n",
    "print()\n",
    "print(arr_new2) \n",
    "print()\n",
    "print(arr_new3) "
   ]
  },
  {
   "cell_type": "markdown",
   "id": "cae12576",
   "metadata": {},
   "source": [
    "# SPLIT ARRAY "
   ]
  },
  {
   "cell_type": "code",
   "execution_count": 15,
   "id": "0ec1fe1d",
   "metadata": {},
   "outputs": [
    {
     "name": "stdout",
     "output_type": "stream",
     "text": [
      "[1 2 3 4 5 6]\n",
      "\n",
      "[array([1, 2]), array([3]), array([4])]\n",
      "<class 'list'>\n",
      "[1 2]\n"
     ]
    }
   ],
   "source": [
    "var8 = np.array([1,2,3,4,5,6])\n",
    "print(var8)\n",
    "print()\n",
    "\n",
    "arr4 = np.array_split(var,3)\n",
    "print(arr4)\n",
    "print(type(arr4))\n",
    "print(arr[0])"
   ]
  },
  {
   "cell_type": "code",
   "execution_count": 20,
   "id": "c79a1486",
   "metadata": {},
   "outputs": [
    {
     "name": "stdout",
     "output_type": "stream",
     "text": [
      "Original array:  [[ 1  2  3]\n",
      " [ 4  5  8]\n",
      " [98  5  3]]\n",
      "\n",
      "\n",
      "After splitting: \n",
      " [array([[1, 2, 3]]), array([[4, 5, 8]]), array([[98,  5,  3]])]\n",
      "\n",
      "After splitting through axis: \n",
      " [array([[ 1],\n",
      "       [ 4],\n",
      "       [98]]), array([[2],\n",
      "       [5],\n",
      "       [5]]), array([[3],\n",
      "       [8],\n",
      "       [3]])]\n"
     ]
    }
   ],
   "source": [
    "var9 = np.array([[1,2,3], [4,5,8], [98,5,3]])\n",
    "print(\"Original array: \", var9)\n",
    "print()\n",
    "\n",
    "arr5 = np.array_split(var9, 3)\n",
    "arr6 = np.array_split(var9, 3, axis = 1)\n",
    "\n",
    "print()\n",
    "print(\"After splitting: \\n\", arr5)\n",
    "print()\n",
    "print(\"After splitting through axis: \\n\", arr6)"
   ]
  },
  {
   "cell_type": "code",
   "execution_count": null,
   "id": "e94c612c",
   "metadata": {},
   "outputs": [],
   "source": []
  }
 ],
 "metadata": {
  "kernelspec": {
   "display_name": "Python 3 (ipykernel)",
   "language": "python",
   "name": "python3"
  },
  "language_info": {
   "codemirror_mode": {
    "name": "ipython",
    "version": 3
   },
   "file_extension": ".py",
   "mimetype": "text/x-python",
   "name": "python",
   "nbconvert_exporter": "python",
   "pygments_lexer": "ipython3",
   "version": "3.9.5"
  }
 },
 "nbformat": 4,
 "nbformat_minor": 5
}
