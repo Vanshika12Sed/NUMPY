{
 "cells": [
  {
   "cell_type": "markdown",
   "id": "dff236ad",
   "metadata": {},
   "source": [
    "# ITERATING NUMPY ARRAY"
   ]
  },
  {
   "cell_type": "code",
   "execution_count": 1,
   "id": "3e231605",
   "metadata": {},
   "outputs": [
    {
     "name": "stdout",
     "output_type": "stream",
     "text": [
      "Array is:  [9 4 5 7 3 2 6 7 6 5]\n",
      "\n",
      "Array after Iteration: \n",
      "9\n",
      "4\n",
      "5\n",
      "7\n",
      "3\n",
      "2\n",
      "6\n",
      "7\n",
      "6\n",
      "5\n"
     ]
    }
   ],
   "source": [
    "import numpy as np\n",
    "\n",
    "var = np.array([9,4,5,7,3,2,6,7,6,5])\n",
    "\n",
    "print(\"Array is: \", var)\n",
    "print()\n",
    "print(\"Array after Iteration: \")\n",
    "\n",
    "for i in var:\n",
    "    print(i)"
   ]
  },
  {
   "cell_type": "code",
   "execution_count": 9,
   "id": "e8c7603d",
   "metadata": {},
   "outputs": [
    {
     "name": "stdout",
     "output_type": "stream",
     "text": [
      "Array is:  [[ 1 53  3]\n",
      " [ 5 87  3]]\n",
      "\n",
      "Array after iteration is: \n",
      "1\n",
      "53\n",
      "3\n",
      "5\n",
      "87\n",
      "3\n"
     ]
    }
   ],
   "source": [
    "var1 = np.array([[1,53,3], [5,87,3]])\n",
    "print(\"Array is: \", var1)\n",
    "print()\n",
    "print(\"Array after iteration is: \")\n",
    "\n",
    "# for j in var1:\n",
    "#     print(j)\n",
    "    \n",
    "# print()\n",
    "# print(\"Array after iteration: \")\n",
    "\n",
    "for k in var1:\n",
    "    for l in k:\n",
    "        print(l)"
   ]
  },
  {
   "cell_type": "code",
   "execution_count": 12,
   "id": "f523fd5b",
   "metadata": {},
   "outputs": [
    {
     "name": "stdout",
     "output_type": "stream",
     "text": [
      "Array is [[[2 3 5]\n",
      "  [5 6 4]\n",
      "  [4 5 4]]]\n",
      "Dimension of Array is:  3\n",
      "\n",
      "After Iteration Array is: \n",
      "2\n",
      "3\n",
      "5\n",
      "5\n",
      "6\n",
      "4\n",
      "4\n",
      "5\n",
      "4\n"
     ]
    }
   ],
   "source": [
    "var2 = np.array([[[2,3,5], [5,6,4], [4,5,4]]])\n",
    "print(\"Array is\", var2)\n",
    "print(\"Dimension of Array is: \", var2.ndim)\n",
    "print()\n",
    "print(\"After Iteration Array is: \")\n",
    "\n",
    "for i in var2:\n",
    "    for j in i:\n",
    "        for k in j:\n",
    "            print(k)"
   ]
  },
  {
   "cell_type": "code",
   "execution_count": 5,
   "id": "3204f7fc",
   "metadata": {},
   "outputs": [
    {
     "name": "stdout",
     "output_type": "stream",
     "text": [
      "Array is [[[2 3 5]\n",
      "  [5 6 4]\n",
      "  [4 5 4]]]\n",
      "Dimension of Array is:  3\n",
      "\n",
      "After Iteration Array is: \n",
      "b'2'\n",
      "b'3'\n",
      "b'5'\n",
      "b'5'\n",
      "b'6'\n",
      "b'4'\n",
      "b'4'\n",
      "b'5'\n",
      "b'4'\n"
     ]
    }
   ],
   "source": [
    "var2 = np.array([[[2,3,5], [5,6,4], [4,5,4]]])\n",
    "print(\"Array is\", var2)\n",
    "print(\"Dimension of Array is: \", var2.ndim)\n",
    "print()\n",
    "print(\"After Iteration Array is: \")\n",
    "\n",
    "for i in np.nditer(var2, flags=['buffered'], op_dtypes = [\"S\"]):\n",
    "    print(i)"
   ]
  },
  {
   "cell_type": "code",
   "execution_count": 2,
   "id": "a388d4f2",
   "metadata": {},
   "outputs": [
    {
     "name": "stdout",
     "output_type": "stream",
     "text": [
      "Array is [[[2 3 5]\n",
      "  [5 6 4]\n",
      "  [4 5 4]]]\n",
      "Dimension of Array is:  3\n",
      "\n",
      "After Iteration Array is: \n",
      "(0, 0, 0) 2\n",
      "(0, 0, 1) 3\n",
      "(0, 0, 2) 5\n",
      "(0, 1, 0) 5\n",
      "(0, 1, 1) 6\n",
      "(0, 1, 2) 4\n",
      "(0, 2, 0) 4\n",
      "(0, 2, 1) 5\n",
      "(0, 2, 2) 4\n"
     ]
    }
   ],
   "source": [
    "var3 = np.array([[[2,3,5], [5,6,4], [4,5,4]]])\n",
    "print(\"Array is\", var3)\n",
    "print(\"Dimension of Array is: \", var3.ndim)\n",
    "print()\n",
    "print(\"After Iteration Array is: \")\n",
    "\n",
    "for i,d in np.ndenumerate(var3):\n",
    "    print(i, d)"
   ]
  }
 ],
 "metadata": {
  "kernelspec": {
   "display_name": "Python 3 (ipykernel)",
   "language": "python",
   "name": "python3"
  },
  "language_info": {
   "codemirror_mode": {
    "name": "ipython",
    "version": 3
   },
   "file_extension": ".py",
   "mimetype": "text/x-python",
   "name": "python",
   "nbconvert_exporter": "python",
   "pygments_lexer": "ipython3",
   "version": "3.9.5"
  }
 },
 "nbformat": 4,
 "nbformat_minor": 5
}
