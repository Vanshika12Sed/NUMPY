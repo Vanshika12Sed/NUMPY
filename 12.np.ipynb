{
 "cells": [
  {
   "cell_type": "markdown",
   "id": "b7e3ff7d",
   "metadata": {},
   "source": [
    "# CONCEPT OF MATRIX NUMPY ARRAYS IN PYTHON"
   ]
  },
  {
   "cell_type": "code",
   "execution_count": 1,
   "id": "f69edb77",
   "metadata": {},
   "outputs": [
    {
     "name": "stdout",
     "output_type": "stream",
     "text": [
      "[[1 2]\n",
      " [1 2]]\n",
      "<class 'numpy.matrix'>\n",
      "\n",
      "[[6 9]\n",
      " [8 7]]\n",
      "[[-4 -5]\n",
      " [-6 -3]]\n",
      "[[19 17]\n",
      " [19 17]]\n",
      "[[19 17]\n",
      " [19 17]]\n"
     ]
    }
   ],
   "source": [
    "import numpy as np \n",
    "var = np.matrix([[1,2], [1,2]])\n",
    "var2 = np.matrix([[5,7], [7,5]])\n",
    "\n",
    "print(var)\n",
    "print(type(var))\n",
    "print()\n",
    "print(var + var2)\n",
    "print(var - var2)\n",
    "print(var * var2)\n",
    "print(var.dot(var2))"
   ]
  },
  {
   "cell_type": "code",
   "execution_count": 3,
   "id": "e9997dd8",
   "metadata": {},
   "outputs": [
    {
     "name": "stdout",
     "output_type": "stream",
     "text": [
      "[[1 2 3]\n",
      " [1 2 3]]\n",
      "<class 'numpy.ndarray'>\n",
      "\n",
      "[[1 4 9]\n",
      " [1 4 9]]\n"
     ]
    }
   ],
   "source": [
    "var1 = np.array([[1,2,3], [1,2,3]])\n",
    "print(var1)\n",
    "print(type(var1))\n",
    "print()\n",
    "print(var1*var1)"
   ]
  },
  {
   "cell_type": "code",
   "execution_count": null,
   "id": "5afa7f03",
   "metadata": {},
   "outputs": [],
   "source": []
  }
 ],
 "metadata": {
  "kernelspec": {
   "display_name": "Python 3 (ipykernel)",
   "language": "python",
   "name": "python3"
  },
  "language_info": {
   "codemirror_mode": {
    "name": "ipython",
    "version": 3
   },
   "file_extension": ".py",
   "mimetype": "text/x-python",
   "name": "python",
   "nbconvert_exporter": "python",
   "pygments_lexer": "ipython3",
   "version": "3.9.5"
  }
 },
 "nbformat": 4,
 "nbformat_minor": 5
}
