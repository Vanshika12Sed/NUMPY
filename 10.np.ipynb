{
 "cells": [
  {
   "cell_type": "markdown",
   "id": "310bf6ed",
   "metadata": {},
   "source": [
    "# WHAT ARE NUMPY ARRAY FUNCTIONS?"
   ]
  },
  {
   "cell_type": "markdown",
   "id": "349aa753",
   "metadata": {},
   "source": [
    "# SEARCH ARRAY"
   ]
  },
  {
   "cell_type": "code",
   "execution_count": 4,
   "id": "8df35e57",
   "metadata": {},
   "outputs": [
    {
     "name": "stdout",
     "output_type": "stream",
     "text": [
      "Position:  (array([ 1,  3,  4,  5,  6,  7,  9, 10, 11], dtype=int64),)\n"
     ]
    }
   ],
   "source": [
    "import numpy as np \n",
    "\n",
    "var = np.array([1,2,3,4,6,8,4,2,5,78,86,4])\n",
    "x = np.where( (var%2) == 0)\n",
    "print(\"Position: \", x)"
   ]
  },
  {
   "cell_type": "code",
   "execution_count": 7,
   "id": "61160566",
   "metadata": {},
   "outputs": [
    {
     "name": "stdout",
     "output_type": "stream",
     "text": [
      "Position:  (array([], dtype=int64),)\n"
     ]
    }
   ],
   "source": [
    "var1 = np.array([1,2,3,4,6,8,4,2,5,78,86,4])\n",
    "x1 = np.where( var == 0)\n",
    "print(\"Position: \", x1)"
   ]
  },
  {
   "cell_type": "markdown",
   "id": "31ba18a9",
   "metadata": {},
   "source": [
    "# SEARCH SORTED ARRAY"
   ]
  },
  {
   "cell_type": "code",
   "execution_count": 13,
   "id": "7a166052",
   "metadata": {},
   "outputs": [
    {
     "name": "stdout",
     "output_type": "stream",
     "text": [
      "5 will be placed at position 4 in var2\n",
      "[4 5 6]\n"
     ]
    }
   ],
   "source": [
    "var2 = np.array([1,2,3,4,6,7,8,9])\n",
    "\n",
    "x2 = np.searchsorted(var2, 5, side = \"right\")\n",
    "print(\"5 will be placed at position\", x2, \"in var2\")\n",
    "\n",
    "x3 = np.searchsorted(var2, [5,6,7], side = \"right\")\n",
    "print(x3)"
   ]
  },
  {
   "cell_type": "markdown",
   "id": "4534e145",
   "metadata": {},
   "source": [
    "# SORT ARRAY"
   ]
  },
  {
   "cell_type": "code",
   "execution_count": 2,
   "id": "8c70f069",
   "metadata": {},
   "outputs": [
    {
     "name": "stdout",
     "output_type": "stream",
     "text": [
      "[ 3  4  5  6  7  8 27 46 56]\n"
     ]
    }
   ],
   "source": [
    "var3 = np.array([4,5,6,7,8,46,56,27,3])\n",
    "print(np.sort(var3))"
   ]
  },
  {
   "cell_type": "code",
   "execution_count": 3,
   "id": "b82efcd2",
   "metadata": {},
   "outputs": [
    {
     "name": "stdout",
     "output_type": "stream",
     "text": [
      "['a' 'b' 'f' 'g' 'i' 'p' 'q' 'r' 's' 'u' 'x']\n"
     ]
    }
   ],
   "source": [
    "var4 = np.array(['f', 'g', 'u', 's', 'b', 'r', 'q', 'i', 'p', 'a', 'x'])\n",
    "print(np.sort(var4))"
   ]
  },
  {
   "cell_type": "code",
   "execution_count": 5,
   "id": "90bbc8b4",
   "metadata": {},
   "outputs": [
    {
     "name": "stdout",
     "output_type": "stream",
     "text": [
      "[[4 5 6]\n",
      " [3 5 6]\n",
      " [5 7 8]]\n"
     ]
    }
   ],
   "source": [
    "var5 = np.array([[4,5,6], [6,5,3], [7,8,5]])\n",
    "print(np.sort(var5))"
   ]
  },
  {
   "cell_type": "markdown",
   "id": "f15d736f",
   "metadata": {},
   "source": [
    "# FILTER ARRAY"
   ]
  },
  {
   "cell_type": "code",
   "execution_count": 9,
   "id": "b5b84500",
   "metadata": {},
   "outputs": [
    {
     "name": "stdout",
     "output_type": "stream",
     "text": [
      "Array before filter:  ['f' 'g' 'u' 's' 'b' 'r' 'q']\n",
      "Array after filter:  ['f' 's' 'r' 'q']\n",
      "<class 'numpy.ndarray'>\n"
     ]
    }
   ],
   "source": [
    "var6 = np.array(['f', 'g', 'u', 's', 'b', 'r', 'q'])\n",
    "print(\"Array before filter: \", var6)\n",
    "\n",
    "filter_array = [True, False, False, True, False, True, True]\n",
    "new_array = var6[filter_array]\n",
    "\n",
    "print(\"Array after filter: \", new_array)\n",
    "print(type(new_array))"
   ]
  },
  {
   "cell_type": "markdown",
   "id": "6536004d",
   "metadata": {},
   "source": [
    "# ARITHMETIC FUNCTIONS "
   ]
  },
  {
   "cell_type": "markdown",
   "id": "384f14d4",
   "metadata": {},
   "source": [
    "# 1. SHUFFLE FUNCTION "
   ]
  },
  {
   "cell_type": "code",
   "execution_count": 10,
   "id": "b58ef04c",
   "metadata": {},
   "outputs": [
    {
     "name": "stdout",
     "output_type": "stream",
     "text": [
      "[45  3  7  6  2  7]\n"
     ]
    }
   ],
   "source": [
    "var7 = np.array([2,3,45,6,7,7])\n",
    "np.random.shuffle(var7)\n",
    "print(var7)"
   ]
  },
  {
   "cell_type": "markdown",
   "id": "48d08cf7",
   "metadata": {},
   "source": [
    "# 2. UNIQUE FUNCTION"
   ]
  },
  {
   "cell_type": "code",
   "execution_count": 19,
   "id": "309fa544",
   "metadata": {},
   "outputs": [
    {
     "name": "stdout",
     "output_type": "stream",
     "text": [
      "Original Data:  [5 5 3 3 5 7 8 0 5 3 5 7 8 3 4 7 9]\n",
      "Unique Data:  [0 3 4 5 7 8 9]\n"
     ]
    }
   ],
   "source": [
    "var8 = np.array([5,5,3,3,5,7,8,0,5,3,5,7,8,3,4,7,9])\n",
    "print(\"Original Data: \", var8)\n",
    "\n",
    "x = np.unique(var8)\n",
    "print(\"Unique Data: \", x)"
   ]
  },
  {
   "cell_type": "code",
   "execution_count": 18,
   "id": "20ba8ef5",
   "metadata": {},
   "outputs": [
    {
     "name": "stdout",
     "output_type": "stream",
     "text": [
      "Original Data:  [5 5 3 3 5 7 8 0 5 3 5 7 8 3 4 7 9]\n",
      "Unique Data:  (array([0, 3, 4, 5, 7, 8, 9]), array([ 7,  2, 14,  0,  5,  6, 16], dtype=int64), array([1, 4, 1, 5, 3, 2, 1], dtype=int64))\n"
     ]
    }
   ],
   "source": [
    "var9 = np.array([5,5,3,3,5,7,8,0,5,3,5,7,8,3,4,7,9])\n",
    "print(\"Original Data: \", var9)\n",
    "\n",
    "x = np.unique(var9, return_index = True, return_counts = True)\n",
    "print(\"Unique Data: \", x)"
   ]
  },
  {
   "cell_type": "markdown",
   "id": "72f5c0d7",
   "metadata": {},
   "source": [
    "# 3. RESIZE FUNCTION"
   ]
  },
  {
   "cell_type": "code",
   "execution_count": 20,
   "id": "6ed04631",
   "metadata": {},
   "outputs": [
    {
     "name": "stdout",
     "output_type": "stream",
     "text": [
      "[[2 3 4]\n",
      " [5 7 8]]\n"
     ]
    }
   ],
   "source": [
    "var10 = np.array([2,3,4,5,7,8])\n",
    "y = np.resize(var10, (2,3))\n",
    "print(y)"
   ]
  },
  {
   "cell_type": "markdown",
   "id": "4084ae1b",
   "metadata": {},
   "source": [
    "# 4. FLATTEN AND RAVEL FUNCTION "
   ]
  },
  {
   "cell_type": "code",
   "execution_count": 29,
   "id": "3f295963",
   "metadata": {},
   "outputs": [
    {
     "name": "stdout",
     "output_type": "stream",
     "text": [
      "Original Array: \n",
      " [[2 3 4]\n",
      " [5 7 8]]\n",
      "\n",
      "Array after using flatten function:  [2 3 4 5 7 8]\n"
     ]
    }
   ],
   "source": [
    "var11 = np.array([2,3,4,5,7,8])\n",
    "\n",
    "y = np.resize(var11, (2,3))\n",
    "print(\"Original Array: \\n\", y)\n",
    "print()\n",
    "\n",
    "print(\"Array after using flatten function: \", y.flatten())"
   ]
  },
  {
   "cell_type": "code",
   "execution_count": 27,
   "id": "75facdac",
   "metadata": {},
   "outputs": [
    {
     "name": "stdout",
     "output_type": "stream",
     "text": [
      "Original Array: \n",
      " [[2 3 4]\n",
      " [5 7 8]]\n",
      "\n",
      "Array after using flatten function: [2 5 3 7 4 8]\n"
     ]
    }
   ],
   "source": [
    "var11 = np.array([2,3,4,5,7,8])\n",
    "\n",
    "y = np.resize(var11, (2,3))\n",
    "print(\"Original Array: \\n\", y)\n",
    "\n",
    "print()\n",
    "\n",
    "print(\"Array after using flatten function:\", y.flatten(order = \"F\"))"
   ]
  },
  {
   "cell_type": "code",
   "execution_count": 6,
   "id": "d51d5bbf",
   "metadata": {},
   "outputs": [
    {
     "name": "stdout",
     "output_type": "stream",
     "text": [
      "Original Array: \n",
      " [[2 3 4]\n",
      " [5 7 8]]\n",
      "\n",
      "Array after using flatten function: [2 5 3 7 4 8]\n",
      "Array after using ravel function:  [2 5 3 7 4 8]\n",
      "\n",
      "Array after using flatten function: [2 3 4 5 7 8]\n",
      "Array after using ravel function:  [2 3 4 5 7 8]\n",
      "\n",
      "Array after using flatten function: [2 3 4 5 7 8]\n",
      "Array after using ravel function:  [2 3 4 5 7 8]\n",
      "\n",
      "Array after using flatten function: [2 3 4 5 7 8]\n",
      "Array after using ravel function:  [2 3 4 5 7 8]\n"
     ]
    }
   ],
   "source": [
    "var11 = np.array([2,3,4,5,7,8])\n",
    "\n",
    "y = np.resize(var11, (2,3))\n",
    "print(\"Original Array: \\n\", y)\n",
    "\n",
    "print()\n",
    "\n",
    "print(\"Array after using flatten function:\", y.flatten(order = \"F\"))\n",
    "print(\"Array after using ravel function: \", np.ravel(y, order = \"F\"))\n",
    "print()\n",
    "\n",
    "print(\"Array after using flatten function:\", y.flatten(order = \"C\"))\n",
    "print(\"Array after using ravel function: \", np.ravel(y, order = \"C\"))\n",
    "print()\n",
    "\n",
    "print(\"Array after using flatten function:\", y.flatten(order = \"A\"))\n",
    "print(\"Array after using ravel function: \", np.ravel(y, order = \"A\"))\n",
    "print()\n",
    "\n",
    "print(\"Array after using flatten function:\", y.flatten(order = \"K\"))\n",
    "print(\"Array after using ravel function: \", np.ravel(y, order = \"K\"))"
   ]
  },
  {
   "cell_type": "code",
   "execution_count": null,
   "id": "df1f9d4b",
   "metadata": {},
   "outputs": [],
   "source": []
  }
 ],
 "metadata": {
  "kernelspec": {
   "display_name": "Python 3 (ipykernel)",
   "language": "python",
   "name": "python3"
  },
  "language_info": {
   "codemirror_mode": {
    "name": "ipython",
    "version": 3
   },
   "file_extension": ".py",
   "mimetype": "text/x-python",
   "name": "python",
   "nbconvert_exporter": "python",
   "pygments_lexer": "ipython3",
   "version": "3.9.5"
  }
 },
 "nbformat": 4,
 "nbformat_minor": 5
}
