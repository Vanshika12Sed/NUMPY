{
 "cells": [
  {
   "cell_type": "markdown",
   "id": "e1dd196e",
   "metadata": {},
   "source": [
    "# BROADCASTING IN NUMPY ARRAY"
   ]
  },
  {
   "cell_type": "code",
   "execution_count": 4,
   "id": "4172c2d8",
   "metadata": {},
   "outputs": [
    {
     "name": "stdout",
     "output_type": "stream",
     "text": [
      "Array 1:  [1 2 3 4]\n",
      "Shape of Array1:  (4,)\n",
      "\n",
      "Array 2:  [[1]\n",
      " [2]\n",
      " [3]]\n",
      "Shape of Array2:  (3, 1)\n",
      "\n",
      "Array1 + Array2 =  [[2 3 4 5]\n",
      " [3 4 5 6]\n",
      " [4 5 6 7]]\n"
     ]
    }
   ],
   "source": [
    "import numpy as np\n",
    "\n",
    "var1 = np.array([1,2,3,4])\n",
    "print(\"Array 1: \", var1)\n",
    "print(\"Shape of Array1: \", var1.shape)\n",
    "\n",
    "print()\n",
    "\n",
    "var2 = np.array([[1], [2], [3]])\n",
    "print(\"Array 2: \", var2)\n",
    "print(\"Shape of Array2: \", var2.shape)\n",
    "\n",
    "print()\n",
    "\n",
    "print(\"Array1 + Array2 = \", var1 + var2) "
   ]
  },
  {
   "cell_type": "code",
   "execution_count": 11,
   "id": "16111919",
   "metadata": {},
   "outputs": [
    {
     "name": "stdout",
     "output_type": "stream",
     "text": [
      "1st Array: \n",
      " [[1]\n",
      " [2]]\n",
      "Shape of 1st Array:  (2, 1)\n",
      "\n",
      "2nd Array: \n",
      " [[1 2 3]\n",
      " [1 2 4]]\n",
      "Shape of 2nd Array:  (2, 3)\n",
      "\n",
      "After adding both Arrays: \n",
      " [[2 3 4]\n",
      " [3 4 6]]\n"
     ]
    }
   ],
   "source": [
    "x = np.array([[1], [2]])\n",
    "print(\"1st Array: \\n\", x)\n",
    "print(\"Shape of 1st Array: \", x.shape)\n",
    "\n",
    "print()\n",
    "\n",
    "y = np.array([[1,2,3], [1,2,4]])\n",
    "print(\"2nd Array: \\n\", y)\n",
    "print(\"Shape of 2nd Array: \",y.shape)\n",
    "\n",
    "print()\n",
    "\n",
    "print(\"After adding both Arrays: \\n\", x+y)"
   ]
  },
  {
   "cell_type": "code",
   "execution_count": null,
   "id": "dde3ba9e",
   "metadata": {},
   "outputs": [],
   "source": []
  }
 ],
 "metadata": {
  "kernelspec": {
   "display_name": "Python 3 (ipykernel)",
   "language": "python",
   "name": "python3"
  },
  "language_info": {
   "codemirror_mode": {
    "name": "ipython",
    "version": 3
   },
   "file_extension": ".py",
   "mimetype": "text/x-python",
   "name": "python",
   "nbconvert_exporter": "python",
   "pygments_lexer": "ipython3",
   "version": "3.9.5"
  }
 },
 "nbformat": 4,
 "nbformat_minor": 5
}
