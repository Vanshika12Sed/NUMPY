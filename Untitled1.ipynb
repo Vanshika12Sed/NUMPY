{
 "cells": [
  {
   "cell_type": "markdown",
   "id": "8f51676d",
   "metadata": {},
   "source": [
    "# INDEXING AND SLICING IN NUMPY ARRAYS"
   ]
  },
  {
   "cell_type": "markdown",
   "id": "5f28884a",
   "metadata": {},
   "source": [
    "# INDEXING"
   ]
  },
  {
   "cell_type": "code",
   "execution_count": 2,
   "id": "b647eb3c",
   "metadata": {},
   "outputs": [
    {
     "name": "stdout",
     "output_type": "stream",
     "text": [
      "2\n",
      "4\n"
     ]
    }
   ],
   "source": [
    "import numpy as np \n",
    "# 1-D Array\n",
    "var = np.array([1,2,3,4])\n",
    "print(var[1])\n",
    "print(var[-1])"
   ]
  },
  {
   "cell_type": "code",
   "execution_count": 7,
   "id": "9c6f42e4",
   "metadata": {},
   "outputs": [
    {
     "name": "stdout",
     "output_type": "stream",
     "text": [
      "[ 8 34  6]\n",
      "2\n",
      "5\n"
     ]
    }
   ],
   "source": [
    "# 2-D Array\n",
    "var1 = np.array([[6,5,3],[8,34,6]])\n",
    "print(var1[1])\n",
    "print(var1.ndim)\n",
    "print(var1[0,1])"
   ]
  },
  {
   "cell_type": "code",
   "execution_count": 15,
   "id": "795e250e",
   "metadata": {},
   "outputs": [
    {
     "name": "stdout",
     "output_type": "stream",
     "text": [
      "3\n",
      "4\n",
      "[[[5 5 3]\n",
      "  [7 5 3]\n",
      "  [8 4 7]]]\n"
     ]
    }
   ],
   "source": [
    "# 3-D Array\n",
    "var2 = np.array([[[5,5,3], [7,5,3], [8,4,7]]])\n",
    "print(var2.ndim)\n",
    "print(var2[0,2,1])\n",
    "print(var2)"
   ]
  },
  {
   "cell_type": "markdown",
   "id": "efda92e4",
   "metadata": {},
   "source": [
    "# SLICING"
   ]
  },
  {
   "cell_type": "code",
   "execution_count": 22,
   "id": "489a9195",
   "metadata": {},
   "outputs": [
    {
     "name": "stdout",
     "output_type": "stream",
     "text": [
      "Array is [3 4 6 3 2 5 6 7 8]\n",
      "\n",
      "Slice from 4 to 5:  [4 6 3 2 5]\n",
      "\n",
      "Slice from 2 to end:  [2 5 6 7 8]\n",
      "\n",
      "Step point:  [3 6 2 6 8]\n",
      "\n",
      "Step point:  [4 3]\n"
     ]
    }
   ],
   "source": [
    "# 1-D Array\n",
    "var3 = np.array([3,4,6,3,2,5,6,7,8])\n",
    "\n",
    "print(\"Array is\", var3)\n",
    "print()\n",
    "print(\"Slice from 4 to 5: \", var3[1:6])\n",
    "print()\n",
    "print(\"Slice from 2 to end: \", var3[4:])\n",
    "print()\n",
    "print(\"Step point: \", var3[::2])\n",
    "print()\n",
    "print(\"Step point: \", var3[1:4:2])"
   ]
  },
  {
   "cell_type": "code",
   "execution_count": 23,
   "id": "1958e84d",
   "metadata": {},
   "outputs": [
    {
     "name": "stdout",
     "output_type": "stream",
     "text": [
      "Array is:  [[4 5 7 3 6 8]\n",
      " [7 3 6 9 3 5]]\n",
      "\n",
      "After Slicing:  [6 9 3]\n"
     ]
    }
   ],
   "source": [
    "# 2-D Array\n",
    "var4 = np.array([[4,5,7,3,6,8], [7,3,6,9,3,5]])\n",
    "print(\"Array is: \", var4)\n",
    "print()\n",
    "print(\"After Slicing: \", var4[1,2:5])"
   ]
  },
  {
   "cell_type": "code",
   "execution_count": null,
   "id": "a79e9296",
   "metadata": {},
   "outputs": [],
   "source": []
  }
 ],
 "metadata": {
  "kernelspec": {
   "display_name": "Python 3 (ipykernel)",
   "language": "python",
   "name": "python3"
  },
  "language_info": {
   "codemirror_mode": {
    "name": "ipython",
    "version": 3
   },
   "file_extension": ".py",
   "mimetype": "text/x-python",
   "name": "python",
   "nbconvert_exporter": "python",
   "pygments_lexer": "ipython3",
   "version": "3.9.5"
  }
 },
 "nbformat": 4,
 "nbformat_minor": 5
}
