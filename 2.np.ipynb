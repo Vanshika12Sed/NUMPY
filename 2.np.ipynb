{
 "cells": [
  {
   "cell_type": "markdown",
   "id": "0f944299",
   "metadata": {},
   "source": [
    "# CREATING ARRAYS"
   ]
  },
  {
   "cell_type": "code",
   "execution_count": 7,
   "id": "518d25e8",
   "metadata": {},
   "outputs": [
    {
     "name": "stdout",
     "output_type": "stream",
     "text": [
      "[1 2 3 4]\n",
      "<class 'numpy.ndarray'>\n",
      "1\n"
     ]
    }
   ],
   "source": [
    "import numpy as np \n",
    "\n",
    "x = [1,2,3,4]\n",
    "y = np.array(x)\n",
    "\n",
    "print(y) \n",
    "print(type(y))\n",
    "print(y.ndim)"
   ]
  },
  {
   "cell_type": "code",
   "execution_count": 2,
   "id": "bbe79956",
   "metadata": {},
   "outputs": [
    {
     "name": "stdout",
     "output_type": "stream",
     "text": [
      "[1 2 3 4 5]\n"
     ]
    }
   ],
   "source": [
    "x = [1,2,3,4]\n",
    "y = np.array([1,2,3,4,5])\n",
    "print(y) "
   ]
  },
  {
   "cell_type": "code",
   "execution_count": 3,
   "id": "a1d94038",
   "metadata": {},
   "outputs": [
    {
     "data": {
      "text/plain": [
       "array([1, 2, 3, 4, 5])"
      ]
     },
     "execution_count": 3,
     "metadata": {},
     "output_type": "execute_result"
    }
   ],
   "source": [
    "x = [1,2,3,4]\n",
    "y = np.array([1,2,3,4,5])\n",
    "y "
   ]
  },
  {
   "cell_type": "code",
   "execution_count": 5,
   "id": "66969aef",
   "metadata": {},
   "outputs": [
    {
     "name": "stdout",
     "output_type": "stream",
     "text": [
      "Enter a value: 2\n",
      "Enter a value: 3\n",
      "Enter a value: 4\n",
      "Enter a value: 5\n",
      "[2 3 4 5]\n"
     ]
    }
   ],
   "source": [
    "l = []\n",
    "\n",
    "for i in range(1,5):\n",
    "    int_1 = int(input(\"Enter a value: \"))\n",
    "    l.append(int_1) \n",
    "    \n",
    "print(np.array(l))"
   ]
  },
  {
   "cell_type": "code",
   "execution_count": 8,
   "id": "08107c83",
   "metadata": {},
   "outputs": [
    {
     "name": "stdout",
     "output_type": "stream",
     "text": [
      "[[1 2 3 4]\n",
      " [1 2 3 5]]\n",
      "2\n"
     ]
    }
   ],
   "source": [
    "ar2 = np.array([[1,2,3,4], [1,2,3,5]]) \n",
    "print(ar2) \n",
    "print(ar2.ndim)"
   ]
  },
  {
   "cell_type": "code",
   "execution_count": 9,
   "id": "bbf85200",
   "metadata": {},
   "outputs": [
    {
     "name": "stdout",
     "output_type": "stream",
     "text": [
      "[[[1 2 3 4]\n",
      "  [2 3 4 5]\n",
      "  [3 4 5 6]\n",
      "  [4 5 6 7]]]\n",
      "3\n"
     ]
    }
   ],
   "source": [
    "ar3 = np.array([[[1,2,3,4], [2,3,4,5], [3,4,5,6], [4,5,6,7]]])\n",
    "print(ar3)\n",
    "print(ar3.ndim)"
   ]
  },
  {
   "cell_type": "markdown",
   "id": "46317b2a",
   "metadata": {},
   "source": [
    "# SPECIAL NUMPYA ARRAYS "
   ]
  },
  {
   "cell_type": "code",
   "execution_count": 19,
   "id": "704b6a9c",
   "metadata": {},
   "outputs": [
    {
     "name": "stdout",
     "output_type": "stream",
     "text": [
      "[0. 0. 0. 0.]\n",
      "Single dimension array: \n",
      " [[0. 0. 0. 0.]\n",
      " [0. 0. 0. 0.]\n",
      " [0. 0. 0. 0.]]\n"
     ]
    }
   ],
   "source": [
    "# ARRAY FILLED WITH 0'S\n",
    "import numpy as np\n",
    "\n",
    "arr_zero_array = np.zeros(4)\n",
    "arr_zero1 = np.zeros((3,4))\n",
    "\n",
    "print(arr_zero_array)\n",
    "print(\"Single dimension array: \\n\", arr_zero1)"
   ]
  },
  {
   "cell_type": "code",
   "execution_count": 31,
   "id": "e07f79fa",
   "metadata": {},
   "outputs": [
    {
     "name": "stdout",
     "output_type": "stream",
     "text": [
      "[[[[[[[[[[1 2 3 4]]]]]]]]]]\n",
      "10\n"
     ]
    }
   ],
   "source": [
    "arn = np.array([1,2,3,4],ndmin = 10)\n",
    "print(arn)\n",
    "print(arn.ndim)"
   ]
  },
  {
   "cell_type": "code",
   "execution_count": 18,
   "id": "7638601a",
   "metadata": {},
   "outputs": [
    {
     "name": "stdout",
     "output_type": "stream",
     "text": [
      "[1. 1. 1. 1.]\n",
      "One dimensional array: \n",
      " [[1. 1. 1. 1.]\n",
      " [1. 1. 1. 1.]\n",
      " [1. 1. 1. 1.]]\n"
     ]
    }
   ],
   "source": [
    "# ARRAY FILLED WITH 1'S\n",
    "arr_one_array = np.ones(4)\n",
    "arr_one1 = np.ones((3,4,))\n",
    "\n",
    "print(arr_one_array)\n",
    "print(\"One dimensional array: \\n\", arr_one1)"
   ]
  },
  {
   "cell_type": "code",
   "execution_count": 12,
   "id": "f688550f",
   "metadata": {},
   "outputs": [
    {
     "name": "stdout",
     "output_type": "stream",
     "text": [
      "[1. 1. 1. 1.]\n"
     ]
    }
   ],
   "source": [
    "# CREATE AN EMPTY ARRAY\n",
    "arr_empty_array = np.empty(4)\n",
    "print(arr_empty_array)"
   ]
  },
  {
   "cell_type": "code",
   "execution_count": 20,
   "id": "1c6af83d",
   "metadata": {},
   "outputs": [
    {
     "name": "stdout",
     "output_type": "stream",
     "text": [
      "[0 1 2 3]\n"
     ]
    }
   ],
   "source": [
    "# AN ARRAY WITH A RANGE OF ELEMENT\n",
    "arr_range_array = np.arange(4)\n",
    "print(arr_range_array)"
   ]
  },
  {
   "cell_type": "code",
   "execution_count": 24,
   "id": "8fc5cca4",
   "metadata": {},
   "outputs": [
    {
     "name": "stdout",
     "output_type": "stream",
     "text": [
      "[[1. 0. 0.]\n",
      " [0. 1. 0.]\n",
      " [0. 0. 1.]]\n",
      "\n",
      "[[1. 0. 0. 0. 0.]\n",
      " [0. 1. 0. 0. 0.]\n",
      " [0. 0. 1. 0. 0.]]\n"
     ]
    }
   ],
   "source": [
    "# ARRAY DIAGONAL ELEMENT FILLED WITH 1'S\n",
    "arr_diagonal_array = np.eye(3)\n",
    "print(arr_diagonal_array)\n",
    "\n",
    "print() \n",
    "\n",
    "arr_diagonal_array = np.eye(3,5)\n",
    "print(arr_diagonal_array)"
   ]
  },
  {
   "cell_type": "code",
   "execution_count": 30,
   "id": "0df5253d",
   "metadata": {},
   "outputs": [
    {
     "name": "stdout",
     "output_type": "stream",
     "text": [
      "[ 1.   13.25 25.5  37.75 50.  ]\n"
     ]
    }
   ],
   "source": [
    "# CREATE AN ARRAY WITH VALUES THAT ARE SPACED LINEARLY IN A SPECIFIED INTERVAL\n",
    "arr_lin_array = np.linspace(1,50,num=5)\n",
    "print(arr_lin_array)"
   ]
  },
  {
   "cell_type": "markdown",
   "id": "7a749945",
   "metadata": {},
   "source": [
    "# CREATE NUMPY ARRAY WITH RANDOM NUMBERS"
   ]
  },
  {
   "cell_type": "code",
   "execution_count": 32,
   "id": "14c052e4",
   "metadata": {},
   "outputs": [
    {
     "name": "stdout",
     "output_type": "stream",
     "text": [
      "[0.93319998 0.60323189 0.90248598 0.57330845]\n"
     ]
    }
   ],
   "source": [
    "# rand()\n",
    "import numpy as np\n",
    "var = np.random.rand(4)\n",
    "print(var)\n",
    "\n",
    "var1 = np.random.rand(2,5)\n",
    "print(var1)"
   ]
  },
  {
   "cell_type": "code",
   "execution_count": 35,
   "id": "df2a5e86",
   "metadata": {},
   "outputs": [
    {
     "name": "stdout",
     "output_type": "stream",
     "text": [
      "[ 0.10300801 -1.02732481  0.21707284 -1.50968866 -0.15350364 -0.02713856\n",
      " -0.22225344 -2.82895842 -2.20038278  1.95449287]\n"
     ]
    }
   ],
   "source": [
    "# randn() \n",
    "var2 = np.random.randn(10)\n",
    "print(var2) "
   ]
  },
  {
   "cell_type": "code",
   "execution_count": 36,
   "id": "362d22b8",
   "metadata": {},
   "outputs": [
    {
     "name": "stdout",
     "output_type": "stream",
     "text": [
      "[0.17452505 0.43805408 0.86422119 0.69416283 0.52616741]\n"
     ]
    }
   ],
   "source": [
    "# ranf()\n",
    "var3 = np.random.ranf(5)\n",
    "print(var3)"
   ]
  },
  {
   "cell_type": "code",
   "execution_count": 37,
   "id": "c81fefe1",
   "metadata": {},
   "outputs": [
    {
     "name": "stdout",
     "output_type": "stream",
     "text": [
      "[ 6 18 10 17  8]\n"
     ]
    }
   ],
   "source": [
    "# randint()\n",
    "var4 = np.random.randint(5,20,5)\n",
    "print(var4)"
   ]
  },
  {
   "cell_type": "code",
   "execution_count": null,
   "id": "1baadb0e",
   "metadata": {},
   "outputs": [],
   "source": []
  }
 ],
 "metadata": {
  "kernelspec": {
   "display_name": "Python 3 (ipykernel)",
   "language": "python",
   "name": "python3"
  },
  "language_info": {
   "codemirror_mode": {
    "name": "ipython",
    "version": 3
   },
   "file_extension": ".py",
   "mimetype": "text/x-python",
   "name": "python",
   "nbconvert_exporter": "python",
   "pygments_lexer": "ipython3",
   "version": "3.9.5"
  }
 },
 "nbformat": 4,
 "nbformat_minor": 5
}
