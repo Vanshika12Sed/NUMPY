{
 "cells": [
  {
   "cell_type": "markdown",
   "id": "3a5fa70b",
   "metadata": {},
   "source": [
    "# copy vs view "
   ]
  },
  {
   "cell_type": "code",
   "execution_count": 1,
   "id": "93d144e4",
   "metadata": {},
   "outputs": [
    {
     "name": "stdout",
     "output_type": "stream",
     "text": [
      "Var:  [ 1 40  3  4]\n",
      "Copy:  [1 2 3 4]\n"
     ]
    }
   ],
   "source": [
    "import numpy as np\n",
    "\n",
    "var = np.array([1,2,3,4])\n",
    "co = var.copy()\n",
    "\n",
    "var[1] = 40\n",
    "\n",
    "print(\"Var: \", var)\n",
    "print(\"Copy: \", co)"
   ]
  },
  {
   "cell_type": "code",
   "execution_count": 2,
   "id": "f5c0a213",
   "metadata": {},
   "outputs": [
    {
     "name": "stdout",
     "output_type": "stream",
     "text": [
      "x:  [ 9 40  7  6  5]\n",
      "view:  [ 9 40  7  6  5]\n"
     ]
    }
   ],
   "source": [
    "x = np.array([9,8,7,6,5])\n",
    "\n",
    "vi = x.view()\n",
    "x[1] = 40\n",
    "\n",
    "print(\"x: \", x)\n",
    "print(\"view: \", vi)"
   ]
  },
  {
   "cell_type": "code",
   "execution_count": null,
   "id": "1cec4656",
   "metadata": {},
   "outputs": [],
   "source": []
  }
 ],
 "metadata": {
  "kernelspec": {
   "display_name": "Python 3 (ipykernel)",
   "language": "python",
   "name": "python3"
  },
  "language_info": {
   "codemirror_mode": {
    "name": "ipython",
    "version": 3
   },
   "file_extension": ".py",
   "mimetype": "text/x-python",
   "name": "python",
   "nbconvert_exporter": "python",
   "pygments_lexer": "ipython3",
   "version": "3.9.5"
  }
 },
 "nbformat": 4,
 "nbformat_minor": 5
}
