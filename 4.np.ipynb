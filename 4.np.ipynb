{
 "cells": [
  {
   "cell_type": "markdown",
   "id": "6325d6ba",
   "metadata": {},
   "source": [
    "# NUMPY ARITHMETIC OPERATIONS"
   ]
  },
  {
   "cell_type": "code",
   "execution_count": null,
   "id": "b6e0c0f3",
   "metadata": {},
   "outputs": [],
   "source": [
    "# one-dimension array"
   ]
  },
  {
   "cell_type": "code",
   "execution_count": 1,
   "id": "b6b0fb4d",
   "metadata": {},
   "outputs": [
    {
     "name": "stdout",
     "output_type": "stream",
     "text": [
      "[4 5 6 7]\n"
     ]
    }
   ],
   "source": [
    "import numpy as np\n",
    "\n",
    "var = np.array([1,2,3,4])\n",
    "var_add = var + 3\n",
    "\n",
    "print(var_add)"
   ]
  },
  {
   "cell_type": "code",
   "execution_count": 2,
   "id": "fec0229e",
   "metadata": {},
   "outputs": [
    {
     "name": "stdout",
     "output_type": "stream",
     "text": [
      "[ 2  4  7 10]\n"
     ]
    }
   ],
   "source": [
    "var1 = np.array([1,2,3,4])\n",
    "var2 = np.array([1,2,4,6])\n",
    "\n",
    "var_add = var1 + var2\n",
    "print(var_add)"
   ]
  },
  {
   "cell_type": "code",
   "execution_count": 3,
   "id": "3fd8f8e8",
   "metadata": {},
   "outputs": [
    {
     "name": "stdout",
     "output_type": "stream",
     "text": [
      "[ 2  4  7 10]\n"
     ]
    }
   ],
   "source": [
    "var1 = np.array([1,2,3,4])\n",
    "var2 = np.array([1,2,4,6])\n",
    "\n",
    "var_add = np.add(var1, var2)\n",
    "print(var_add)"
   ]
  },
  {
   "cell_type": "code",
   "execution_count": 4,
   "id": "e63c5104",
   "metadata": {},
   "outputs": [
    {
     "name": "stdout",
     "output_type": "stream",
     "text": [
      "[4 5 6 7]\n"
     ]
    }
   ],
   "source": [
    "var1 = np.array([1,2,3,4])\n",
    "var2 = np.array([1,2,4,6])\n",
    "\n",
    "var_add = np.add(var1, 3)\n",
    "print(var_add)"
   ]
  },
  {
   "cell_type": "code",
   "execution_count": 5,
   "id": "f5f16da3",
   "metadata": {},
   "outputs": [],
   "source": [
    "# two dimension array"
   ]
  },
  {
   "cell_type": "code",
   "execution_count": 11,
   "id": "bd9f9006",
   "metadata": {},
   "outputs": [
    {
     "name": "stdout",
     "output_type": "stream",
     "text": [
      "[[1 2 3 4]\n",
      " [1 3 5 6]]\n",
      "+\n",
      "[[1 2 3 4]\n",
      " [1 3 5 6]]\n",
      "=\n",
      "[[ 2  4  6  8]\n",
      " [ 2  6 10 12]]\n"
     ]
    }
   ],
   "source": [
    "var3 = np.array([[1,2,3,4], [1,3,5,6]])\n",
    "var4 = np.array([[1,2,3,4], [1,3,5,6]])\n",
    "\n",
    "print(var3)\n",
    "print(\"+\")\n",
    "print(var4)\n",
    "print(\"=\")\n",
    "\n",
    "var_add = np.add(var3, var4)\n",
    "print(var_add)"
   ]
  },
  {
   "cell_type": "code",
   "execution_count": 12,
   "id": "79d97d16",
   "metadata": {},
   "outputs": [
    {
     "name": "stdout",
     "output_type": "stream",
     "text": [
      "[[1 2 3 4]\n",
      " [1 3 5 6]]\n",
      "*\n",
      "[[1 2 3 4]\n",
      " [1 3 5 6]]\n",
      "=\n",
      "[[ 1  4  9 16]\n",
      " [ 1  9 25 36]]\n"
     ]
    }
   ],
   "source": [
    "var3 = np.array([[1,2,3,4], [1,3,5,6]])\n",
    "var4 = np.array([[1,2,3,4], [1,3,5,6]])\n",
    "\n",
    "print(var3)\n",
    "print(\"*\")\n",
    "print(var4)\n",
    "print(\"=\")\n",
    "\n",
    "var_mul = np.multiply(var3, var4)\n",
    "print(var_mul)"
   ]
  },
  {
   "cell_type": "code",
   "execution_count": 1,
   "id": "74d80ed1",
   "metadata": {},
   "outputs": [],
   "source": [
    "# Reciprocal"
   ]
  },
  {
   "cell_type": "code",
   "execution_count": 4,
   "id": "a50e92d9",
   "metadata": {},
   "outputs": [
    {
     "name": "stdout",
     "output_type": "stream",
     "text": [
      "[1 0 0 0]\n"
     ]
    }
   ],
   "source": [
    "import numpy as np\n",
    "var = np.array([1,2,3,4])\n",
    "var_reciprocal = np.reciprocal(var)\n",
    "\n",
    "print(var_reciprocal)"
   ]
  }
 ],
 "metadata": {
  "kernelspec": {
   "display_name": "Python 3 (ipykernel)",
   "language": "python",
   "name": "python3"
  },
  "language_info": {
   "codemirror_mode": {
    "name": "ipython",
    "version": 3
   },
   "file_extension": ".py",
   "mimetype": "text/x-python",
   "name": "python",
   "nbconvert_exporter": "python",
   "pygments_lexer": "ipython3",
   "version": "3.9.5"
  }
 },
 "nbformat": 4,
 "nbformat_minor": 5
}
