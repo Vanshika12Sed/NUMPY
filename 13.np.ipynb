{
 "cells": [
  {
   "cell_type": "markdown",
   "id": "01016d93",
   "metadata": {},
   "source": [
    "# MATRIX FUNCTION IN NUMPY ARRAY"
   ]
  },
  {
   "cell_type": "code",
   "execution_count": 2,
   "id": "6f6522cb",
   "metadata": {},
   "outputs": [
    {
     "name": "stdout",
     "output_type": "stream",
     "text": [
      "[[1 2 3]\n",
      " [4 5 6]]\n",
      "\n",
      "[[1 4]\n",
      " [2 5]\n",
      " [3 6]]\n",
      "\n",
      "[[1 4]\n",
      " [2 5]\n",
      " [3 6]]\n"
     ]
    }
   ],
   "source": [
    "# TRANSPOSE\n",
    "import numpy as np \n",
    "var = np.matrix([[1,2,3], [4,5,6]])\n",
    "print(var)\n",
    "print()\n",
    "    \n",
    "print(np.transpose(var))\n",
    "print()\n",
    "# OR\n",
    "print(var.T)"
   ]
  },
  {
   "cell_type": "code",
   "execution_count": 7,
   "id": "e61a79cc",
   "metadata": {},
   "outputs": [
    {
     "name": "stdout",
     "output_type": "stream",
     "text": [
      "[[1 4]\n",
      " [2 5]\n",
      " [3 6]]\n"
     ]
    }
   ],
   "source": [
    "# SWAPAXES\n",
    "print(np.swapaxes(var, 0, 1))"
   ]
  },
  {
   "cell_type": "code",
   "execution_count": 9,
   "id": "5d27be11",
   "metadata": {},
   "outputs": [
    {
     "name": "stdout",
     "output_type": "stream",
     "text": [
      "[[1 2]\n",
      " [3 4]]\n",
      "\n",
      "[[1 3]\n",
      " [2 4]]\n"
     ]
    }
   ],
   "source": [
    "var2 = np.matrix([[1,2], [3,4]])\n",
    "print(var2)\n",
    "print()\n",
    "print(np.swapaxes(var2, 0, 1))"
   ]
  },
  {
   "cell_type": "code",
   "execution_count": 10,
   "id": "6c18bb46",
   "metadata": {},
   "outputs": [
    {
     "name": "stdout",
     "output_type": "stream",
     "text": [
      "[[1 2]\n",
      " [3 4]]\n",
      "\n",
      "[[-2.   1. ]\n",
      " [ 1.5 -0.5]]\n"
     ]
    }
   ],
   "source": [
    "# INVERSE\n",
    "var3 = np.matrix([[1,2], [3,4]])\n",
    "print(var3)\n",
    "print()\n",
    "\n",
    "print(np.linalg.inv(var3))"
   ]
  },
  {
   "cell_type": "code",
   "execution_count": 3,
   "id": "e00c2d5b",
   "metadata": {},
   "outputs": [
    {
     "name": "stdout",
     "output_type": "stream",
     "text": [
      "[[1 2]\n",
      " [3 4]]\n",
      "\n",
      "[[ 7 10]\n",
      " [15 22]]\n",
      "\n"
     ]
    }
   ],
   "source": [
    "# POWER\n",
    "var4 = np.matrix([[1,2], [3,4]])\n",
    "print(var4)\n",
    "print()\n",
    "\n",
    "print(np.linalg.matrix_power(var4, 2))\n",
    "print()"
   ]
  },
  {
   "cell_type": "code",
   "execution_count": 4,
   "id": "61e0fe57",
   "metadata": {},
   "outputs": [
    {
     "name": "stdout",
     "output_type": "stream",
     "text": [
      "[[1 2]\n",
      " [3 4]]\n",
      "\n",
      "-2.0000000000000004\n"
     ]
    }
   ],
   "source": [
    "# DETERMINATE\n",
    "var5 = np.matrix([[1,2], [3,4]])\n",
    "print(var5)\n",
    "print()\n",
    "\n",
    "print(np.linalg.det(var5))"
   ]
  }
 ],
 "metadata": {
  "kernelspec": {
   "display_name": "Python 3 (ipykernel)",
   "language": "python",
   "name": "python3"
  },
  "language_info": {
   "codemirror_mode": {
    "name": "ipython",
    "version": 3
   },
   "file_extension": ".py",
   "mimetype": "text/x-python",
   "name": "python",
   "nbconvert_exporter": "python",
   "pygments_lexer": "ipython3",
   "version": "3.9.5"
  }
 },
 "nbformat": 4,
 "nbformat_minor": 5
}
