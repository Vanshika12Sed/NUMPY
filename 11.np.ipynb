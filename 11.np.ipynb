{
 "cells": [
  {
   "cell_type": "markdown",
   "id": "87ddc675",
   "metadata": {},
   "source": [
    "# NUMPY INSERT AND DELETE ARRAYS FUNCTIONS"
   ]
  },
  {
   "cell_type": "markdown",
   "id": "8c904590",
   "metadata": {},
   "source": [
    "# INSERT"
   ]
  },
  {
   "cell_type": "code",
   "execution_count": 7,
   "id": "7317a7fd",
   "metadata": {},
   "outputs": [
    {
     "name": "stdout",
     "output_type": "stream",
     "text": [
      "Original Array:  [1 2 3 4]\n",
      "New Array:  [ 1  2 40  3  4]\n",
      "New Array:  [ 1  2 40  3  4 40]\n"
     ]
    }
   ],
   "source": [
    "import numpy as np \n",
    "\n",
    "var = np.array([1,2,3,4])\n",
    "print(\"Original Array: \", var)\n",
    "\n",
    "var1 = np.insert(var, 2, 40)\n",
    "print(\"New Array: \", var1)\n",
    "\n",
    "var2 = np.insert(var, (2,4), 40)\n",
    "print(\"New Array: \", var2)"
   ]
  },
  {
   "cell_type": "code",
   "execution_count": 19,
   "id": "3504bb53",
   "metadata": {},
   "outputs": [
    {
     "name": "stdout",
     "output_type": "stream",
     "text": [
      "Original array: \n",
      " [[ 3  4 55  4]\n",
      " [ 5  7  8  5]]\n",
      "\n",
      "New array: \n",
      " [[ 3  4  6 55  4]\n",
      " [ 5  7  6  8  5]]\n",
      "New array: \n",
      " [[ 3  4 22 55  4]\n",
      " [ 5  7 23  8  5]]\n"
     ]
    }
   ],
   "source": [
    "var3 = np.array([[3,4,55,4], [5,7,8,5]])\n",
    "print(\"Original array: \\n\", var3)\n",
    "print()\n",
    "\n",
    "var4 = np.insert(var3, 2, 6, axis=1)\n",
    "print(\"New array: \\n\", var4)\n",
    "\n",
    "var5 = np.insert(var3, 2, [22,23], axis=1)\n",
    "print(\"New array: \\n\", var4)"
   ]
  },
  {
   "cell_type": "code",
   "execution_count": 22,
   "id": "83434d34",
   "metadata": {},
   "outputs": [
    {
     "name": "stdout",
     "output_type": "stream",
     "text": [
      "Original Array:  [1 2 3 4]\n",
      "New Array:  [1.  2.  3.  4.  6.5]\n"
     ]
    }
   ],
   "source": [
    "# using insert function with append \n",
    "\n",
    "var6 = np.array([1,2,3,4])\n",
    "print(\"Original Array: \", var6)\n",
    "\n",
    "x = np.append(var6, 6.5)\n",
    "print(\"New Array: \", x)"
   ]
  },
  {
   "cell_type": "code",
   "execution_count": 27,
   "id": "6acf3972",
   "metadata": {},
   "outputs": [
    {
     "name": "stdout",
     "output_type": "stream",
     "text": [
      "Original array: \n",
      " [[ 3  4 55  4]\n",
      " [ 5  7  8  5]]\n",
      "\n",
      "New Array: \n",
      " [[ 3  4 55  4]\n",
      " [ 5  7  8  5]\n",
      " [45 44 23 87]]\n",
      "\n"
     ]
    }
   ],
   "source": [
    "var7 = np.array([[3,4,55,4], [5,7,8,5]])\n",
    "print(\"Original array: \\n\", var7)\n",
    "print()\n",
    "\n",
    "var8 = np.append(var7, [[45,44,23,87]], axis=0)\n",
    "print(\"New Array: \\n\", var8)\n",
    "print()"
   ]
  },
  {
   "cell_type": "markdown",
   "id": "9ed32772",
   "metadata": {},
   "source": [
    "# DELETE"
   ]
  },
  {
   "cell_type": "code",
   "execution_count": 31,
   "id": "c812a0a7",
   "metadata": {},
   "outputs": [
    {
     "name": "stdout",
     "output_type": "stream",
     "text": [
      "Original Array: \n",
      " [1 2 3 4]\n",
      "New Array:  [1 2 4]\n"
     ]
    }
   ],
   "source": [
    "import numpy as np \n",
    "\n",
    "var9 = np.array([1,2,3,4])\n",
    "print(\"Original Array: \\n\", var9)\n",
    "print()\n",
    "\n",
    "d = np.delete(var9, 2)\n",
    "print(\"New Array: \", d)"
   ]
  },
  {
   "cell_type": "code",
   "execution_count": null,
   "id": "ce0d5758",
   "metadata": {},
   "outputs": [],
   "source": []
  }
 ],
 "metadata": {
  "kernelspec": {
   "display_name": "Python 3 (ipykernel)",
   "language": "python",
   "name": "python3"
  },
  "language_info": {
   "codemirror_mode": {
    "name": "ipython",
    "version": 3
   },
   "file_extension": ".py",
   "mimetype": "text/x-python",
   "name": "python",
   "nbconvert_exporter": "python",
   "pygments_lexer": "ipython3",
   "version": "3.9.5"
  }
 },
 "nbformat": 4,
 "nbformat_minor": 5
}
